{
 "cells": [
  {
   "cell_type": "code",
   "execution_count": 411,
   "metadata": {},
   "outputs": [
    {
     "data": {
      "text/plain": [
       "True"
      ]
     },
     "execution_count": 411,
     "metadata": {},
     "output_type": "execute_result"
    }
   ],
   "source": [
    "import os\n",
    "from bs4 import BeautifulSoup\n",
    "from selenium import webdriver\n",
    "from selenium.webdriver.common.by import By\n",
    "\n",
    "from time import sleep\n",
    "\n",
    "from dotenv import load_dotenv\n",
    "load_dotenv()"
   ]
  },
  {
   "cell_type": "code",
   "execution_count": 412,
   "metadata": {},
   "outputs": [],
   "source": [
    "os.environ['Email'] = 'nidhaandubey1234@gmail.com'\n",
    "os.environ['Password'] ='Nidha@1234'"
   ]
  },
  {
   "cell_type": "code",
   "execution_count": 413,
   "metadata": {},
   "outputs": [
    {
     "data": {
      "text/plain": [
       "'nidhaandubey1234@gmail.com'"
      ]
     },
     "execution_count": 413,
     "metadata": {},
     "output_type": "execute_result"
    }
   ],
   "source": [
    "os.environ['Email']"
   ]
  },
  {
   "cell_type": "code",
   "execution_count": 414,
   "metadata": {},
   "outputs": [
    {
     "data": {
      "text/plain": [
       "'Nidha@1234'"
      ]
     },
     "execution_count": 414,
     "metadata": {},
     "output_type": "execute_result"
    }
   ],
   "source": [
    "os.environ['Password']"
   ]
  },
  {
   "cell_type": "code",
   "execution_count": 415,
   "metadata": {},
   "outputs": [],
   "source": [
    "driver = webdriver.Chrome()"
   ]
  },
  {
   "cell_type": "code",
   "execution_count": 416,
   "metadata": {},
   "outputs": [],
   "source": [
    "driver.get('https://www.linkedin.com/login')"
   ]
  },
  {
   "cell_type": "code",
   "execution_count": 417,
   "metadata": {},
   "outputs": [],
   "source": [
    "email = driver.find_element(By.ID, 'username')\n",
    "email.send_keys(os.environ['EMAIL'])\n",
    "\n",
    "password = driver.find_element(By.ID, 'password')\n",
    "password.send_keys(os.environ['PASSWORD'])"
   ]
  },
  {
   "cell_type": "code",
   "execution_count": 418,
   "metadata": {},
   "outputs": [],
   "source": [
    "password.submit()"
   ]
  },
  {
   "cell_type": "code",
   "execution_count": 419,
   "metadata": {},
   "outputs": [],
   "source": [
    "driver.get('https://www.linkedin.com/in/bhawna-rani-816761215/')"
   ]
  },
  {
   "cell_type": "code",
   "execution_count": 420,
   "metadata": {},
   "outputs": [],
   "source": [
    "LinkedIn_Profile = {}"
   ]
  },
  {
   "cell_type": "code",
   "execution_count": 421,
   "metadata": {},
   "outputs": [],
   "source": [
    "page_source = driver.page_source\n",
    "soup = BeautifulSoup(page_source, 'lxml')\n",
    "name = soup.find('h1', {'class': 'TGmiDkkfCcDKxCQooLSypPeziIJjImTHqfyuUinline t-24 v-align-middle break-words'})\n"
   ]
  },
  {
   "cell_type": "markdown",
   "metadata": {},
   "source": [
    "name\n"
   ]
  },
  {
   "cell_type": "code",
   "execution_count": 422,
   "metadata": {},
   "outputs": [],
   "source": [
    "# name\n",
    "name = soup.find('h1')\n",
    "if name is not None:\n",
    "    LinkedIn_Profile['Name'] = name.get_text(strip=True)\n",
    "else:\n",
    "    LinkedIn_Profile['Name'] = 'Name not found'\n"
   ]
  },
  {
   "cell_type": "markdown",
   "metadata": {},
   "source": [
    "Experience\n"
   ]
  },
  {
   "cell_type": "code",
   "execution_count": 423,
   "metadata": {},
   "outputs": [],
   "source": [
    "page_source = driver.page_source\n",
    "soup = BeautifulSoup(page_source, 'lxml')\n",
    "\n",
    "sections = soup.find_all('section', {'class': 'artdeco-card pv-profile-card break-words mt2'})"
   ]
  },
  {
   "cell_type": "code",
   "execution_count": 424,
   "metadata": {},
   "outputs": [],
   "source": [
    "for sec in sections:\n",
    "    if sec.find('div', {'id': 'experience'}):\n",
    "        experience = sec"
   ]
  },
  {
   "cell_type": "code",
   "execution_count": 425,
   "metadata": {},
   "outputs": [],
   "source": [
    "experience = experience.find_all('div', {'class': 'HWjsorQSnYCtZiPcnNArdYOADTWrKRLQ nWCthmIIXtEWWigKYFarIpgbwwwivDKsGW feTYpRfficYJSLVnMZsPBTDKPqgnUrSHGKg'})"
   ]
  },
  {
   "cell_type": "code",
   "execution_count": 426,
   "metadata": {},
   "outputs": [
    {
     "data": {
      "text/plain": [
       "4"
      ]
     },
     "execution_count": 426,
     "metadata": {},
     "output_type": "execute_result"
    }
   ],
   "source": [
    "len(experience)"
   ]
  },
  {
   "cell_type": "code",
   "execution_count": 427,
   "metadata": {},
   "outputs": [],
   "source": [
    "exp = experience[0]\n",
    "current_designation = exp.find('div', {'class': 'display-flex flex-wrap align-items-center full-height'})\n",
    "current_designation = current_designation.find('span', {'class': 'visually-hidden'})\n",
    "current_designation = current_designation.get_text().strip()\n",
    "LinkedIn_Profile['current_designation'] = current_designation"
   ]
  },
  {
   "cell_type": "code",
   "execution_count": 428,
   "metadata": {},
   "outputs": [
    {
     "data": {
      "text/plain": [
       "{'Name': 'Bhawna Rani', 'current_designation': 'Associate Growth Manager'}"
      ]
     },
     "execution_count": 428,
     "metadata": {},
     "output_type": "execute_result"
    }
   ],
   "source": [
    "LinkedIn_Profile"
   ]
  },
  {
   "cell_type": "markdown",
   "metadata": {},
   "source": [
    "Current company"
   ]
  },
  {
   "cell_type": "code",
   "execution_count": 429,
   "metadata": {},
   "outputs": [],
   "source": [
    "current_company = soup.find('span', {'class': 't-14 t-normal'}, {'aria-hidden': 'true'})\n",
    "if current_company is not None:\n",
    "    designation_text = current_company.get_text(strip=True)\n",
    "    # Extract only the first occurrence of the company name\n",
    "    current_company = designation_text.split('·')[0].strip()\n",
    "    LinkedIn_Profile['Current Company'] = current_company\n",
    "else:\n",
    "    LinkedIn_Profile['Current Company'] = 'current_company not found'"
   ]
  },
  {
   "cell_type": "markdown",
   "metadata": {},
   "source": [
    "Company tenure\n"
   ]
  },
  {
   "cell_type": "code",
   "execution_count": 430,
   "metadata": {},
   "outputs": [],
   "source": [
    "current_tenure = soup.find('span', {'class': 't-14 t-normal t-black--light'})\n",
    "if current_tenure is not None:\n",
    "    current_tenure = current_tenure.get_text(strip=True)\n",
    "    # Extract years and months\n",
    "    years = 0\n",
    "    months = 0\n",
    "    if 'yr' in current_tenure:\n",
    "        years_part = current_tenure.split('yr')[0].split()[-1].strip()\n",
    "        years = int(years_part) if years_part.isdigit() else 0\n",
    "    if 'mo' in current_tenure:\n",
    "        months_part = current_tenure.split('mo')[0].split()[-1].strip()\n",
    "        months = int(months_part) if months_part.isdigit() else 0\n",
    "    LinkedIn_Profile['Current Tenure'] = {'years': years, 'months': months}\n",
    "else:\n",
    "    LinkedIn_Profile['Current Tenure'] = 'current_tenure not found'\n",
    "\n"
   ]
  },
  {
   "cell_type": "code",
   "execution_count": 431,
   "metadata": {},
   "outputs": [
    {
     "data": {
      "text/plain": [
       "{'Name': 'Bhawna Rani',\n",
       " 'current_designation': 'Associate Growth Manager',\n",
       " 'Current Company': 'Blinkit',\n",
       " 'Current Tenure': {'years': 0, 'months': 6}}"
      ]
     },
     "execution_count": 431,
     "metadata": {},
     "output_type": "execute_result"
    }
   ],
   "source": [
    "LinkedIn_Profile"
   ]
  },
  {
   "cell_type": "markdown",
   "metadata": {},
   "source": [
    "Overall Experience"
   ]
  },
  {
   "cell_type": "code",
   "execution_count": 432,
   "metadata": {},
   "outputs": [],
   "source": [
    "total_years = 0\n",
    "total_months = 0\n",
    "#sections contains the experience section\n",
    "for sec in sections:\n",
    "    if sec.find('div', {'id': 'experience'}):\n",
    "        experience_items = sec.find_all('div', {'class': 'HWjsorQSnYCtZiPcnNArdYOADTWrKRLQ nWCthmIIXtEWWigKYFarIpgbwwwivDKsGW feTYpRfficYJSLVnMZsPBTDKPqgnUrSHGKg'})\n",
    "        for item in experience_items:\n",
    "            duration = item.find('span', {'class': 't-14 t-normal t-black--light'})\n",
    "            if duration:\n",
    "                duration_text = duration.get_text(strip=True)\n",
    "                # Extract years and months\n",
    "                if 'yr' in duration_text:\n",
    "                    years_part = duration_text.split('yr')[0].strip()[-1].strip()\n",
    "                    total_years += int(years_part) if years_part.isdigit() else 0\n",
    "                if 'mo' in duration_text:\n",
    "                    months_part = duration_text.split('mo')[0].split()[-1].strip()\n",
    "                    total_months += int(months_part) if months_part.isdigit() else 0\n",
    "\n",
    "\n",
    "total_years += total_months // 12\n",
    "total_months = total_months % 12\n",
    "\n",
    "LinkedIn_Profile['overall_experience'] = {'years': total_years, 'months': total_months}"
   ]
  },
  {
   "cell_type": "markdown",
   "metadata": {},
   "source": [
    "Location"
   ]
  },
  {
   "cell_type": "code",
   "execution_count": 433,
   "metadata": {},
   "outputs": [],
   "source": [
    "locations = soup.find_all('span', {'class': 't-14 t-normal t-black--light'})\n",
    "if len(locations) > 1:\n",
    "    location_text = locations[1].get_text(strip=True)\n",
    "    # Extract only the useful part of the location\n",
    "    useful_location = location_text.split('·')[0].strip() if '·' in location_text else location_text\n",
    "    LinkedIn_Profile['Location'] = useful_location\n",
    "else:\n",
    "    LinkedIn_Profile['Location'] = 'location not found'"
   ]
  },
  {
   "cell_type": "code",
   "execution_count": 434,
   "metadata": {},
   "outputs": [],
   "source": [
    "connections_count = soup.find('span', {'class': 't-bold'})\n",
    "if connections_count is not None:\n",
    "    connections_count = connections_count.get_text(strip=True)\n",
    "    LinkedIn_Profile['Connections Count'] = connections_count\n",
    "else:\n",
    "    LinkedIn_Profile['Connections Count'] = 'connections_count not found'\n"
   ]
  },
  {
   "cell_type": "code",
   "execution_count": 435,
   "metadata": {},
   "outputs": [],
   "source": [
    "ready_for_work_element = soup.find('h3', {'class': 'truncate text-body-small'})\n",
    "if ready_for_work_element is not None:\n",
    "    is_open_to_work_text = ready_for_work_element.get_text(strip=True)\n",
    "    is_open_to_work = 'open to work' in is_open_to_work_text.lower()\n",
    "else:\n",
    "    is_open_to_work = False\n",
    "\n",
    "LinkedIn_Profile['is_open_to_work'] = is_open_to_work"
   ]
  },
  {
   "cell_type": "code",
   "execution_count": 436,
   "metadata": {},
   "outputs": [
    {
     "data": {
      "text/plain": [
       "{'Name': 'Bhawna Rani',\n",
       " 'current_designation': 'Associate Growth Manager',\n",
       " 'Current Company': 'Blinkit',\n",
       " 'Current Tenure': {'years': 0, 'months': 6},\n",
       " 'overall_experience': {'years': 1, 'months': 10},\n",
       " 'Location': 'Gurugram, Haryana, India',\n",
       " 'Connections Count': 'connections_count not found',\n",
       " 'is_open_to_work': False}"
      ]
     },
     "execution_count": 436,
     "metadata": {},
     "output_type": "execute_result"
    }
   ],
   "source": [
    "LinkedIn_Profile"
   ]
  },
  {
   "cell_type": "markdown",
   "metadata": {},
   "source": [
    "Education \n"
   ]
  },
  {
   "cell_type": "code",
   "execution_count": 437,
   "metadata": {},
   "outputs": [],
   "source": [
    "for sec in sections:\n",
    "    if sec.find('div', {'id': 'education'}):\n",
    "        educations = sec"
   ]
  },
  {
   "cell_type": "code",
   "execution_count": 438,
   "metadata": {},
   "outputs": [],
   "source": [
    "items = educations.find_all('div', {'class': 'HWjsorQSnYCtZiPcnNArdYOADTWrKRLQ nWCthmIIXtEWWigKYFarIpgbwwwivDKsGW feTYpRfficYJSLVnMZsPBTDKPqgnUrSHGKg'})"
   ]
  },
  {
   "cell_type": "code",
   "execution_count": 439,
   "metadata": {},
   "outputs": [],
   "source": [
    "def get_edu(item):\n",
    "    item_dict = {}\n",
    "    spans = item.find_all('span', {'class': 'visually-hidden'})\n",
    "\n",
    "    item_dict['college'] = spans[0].get_text().strip()\n",
    "    item_dict['degree'] = spans[1].get_text().strip()\n",
    "    item_dict['duration'] = spans[2].get_text().strip()\n",
    "    return item_dict\n",
    "\n",
    "item_list = []\n",
    "for item in items:\n",
    "    item_list.append(get_edu(item))\n",
    "\n",
    "LinkedIn_Profile['education'] = item_list"
   ]
  },
  {
   "cell_type": "code",
   "execution_count": 440,
   "metadata": {},
   "outputs": [
    {
     "data": {
      "text/plain": [
       "{'Name': 'Bhawna Rani',\n",
       " 'current_designation': 'Associate Growth Manager',\n",
       " 'Current Company': 'Blinkit',\n",
       " 'Current Tenure': {'years': 0, 'months': 6},\n",
       " 'overall_experience': {'years': 1, 'months': 10},\n",
       " 'Location': 'Gurugram, Haryana, India',\n",
       " 'Connections Count': 'connections_count not found',\n",
       " 'is_open_to_work': False,\n",
       " 'education': [{'college': 'Indian Institute of Technology, Guwahati',\n",
       "   'degree': 'Bachelor of Technology - BTech',\n",
       "   'duration': '2020 - 2024'},\n",
       "  {'college': 'School of Creative Learning Patna',\n",
       "   'degree': '12th',\n",
       "   'duration': 'Jun 2017 - Mar 2019'}]}"
      ]
     },
     "execution_count": 440,
     "metadata": {},
     "output_type": "execute_result"
    }
   ],
   "source": [
    "LinkedIn_Profile"
   ]
  },
  {
   "cell_type": "markdown",
   "metadata": {},
   "source": [
    "Skills\n"
   ]
  },
  {
   "cell_type": "code",
   "execution_count": 443,
   "metadata": {},
   "outputs": [],
   "source": [
    "driver.find_element(By.ID, \"navigation-index-Show-all-24-skills\").click()\n",
    "# driver.find_element(By.CLASS_NAME, \"optional-action-target-wrapper artdeco-button artdeco-button--tertiary artdeco-button--standard artdeco-button--2 artdeco-button--muted inline-flex justify-center full-width align-items-center artdeco-button--fluid\").click()"
   ]
  },
  {
   "cell_type": "code",
   "execution_count": 444,
   "metadata": {},
   "outputs": [],
   "source": [
    "page_source = driver.page_source\n",
    "soup = BeautifulSoup(page_source, 'lxml')\n",
    "\n",
    "soup = soup.find('section', {'class': 'artdeco-card pb3'})"
   ]
  },
  {
   "cell_type": "code",
   "execution_count": 445,
   "metadata": {},
   "outputs": [
    {
     "data": {
      "text/plain": [
       "44"
      ]
     },
     "execution_count": 445,
     "metadata": {},
     "output_type": "execute_result"
    }
   ],
   "source": [
    "items = soup.find_all('div', {'class': 'HWjsorQSnYCtZiPcnNArdYOADTWrKRLQ nWCthmIIXtEWWigKYFarIpgbwwwivDKsGW feTYpRfficYJSLVnMZsPBTDKPqgnUrSHGKg'})\n",
    "\n",
    "len(items)"
   ]
  },
  {
   "cell_type": "code",
   "execution_count": 446,
   "metadata": {},
   "outputs": [],
   "source": [
    "item = items[0]\n",
    "\n",
    "def get_Skill(item):\n",
    "    spans = item.find_all('span', {'class': 'visually-hidden'})\n",
    "\n",
    "    item_dict = {}\n",
    "    item_dict = spans[0].get_text().strip()\n",
    "\n",
    "    return item_dict\n",
    "\n",
    "item_list = []\n",
    "for item in items:\n",
    "    item_list.append(get_Skill(item))\n",
    "\n",
    "LinkedIn_Profile['Skills'] = item_list"
   ]
  },
  {
   "cell_type": "code",
   "execution_count": 447,
   "metadata": {},
   "outputs": [
    {
     "data": {
      "text/plain": [
       "{'Name': 'Bhawna Rani',\n",
       " 'current_designation': 'Associate Growth Manager',\n",
       " 'Current Company': 'Blinkit',\n",
       " 'Current Tenure': {'years': 0, 'months': 6},\n",
       " 'overall_experience': {'years': 1, 'months': 10},\n",
       " 'Location': 'Gurugram, Haryana, India',\n",
       " 'Connections Count': 'connections_count not found',\n",
       " 'is_open_to_work': False,\n",
       " 'education': [{'college': 'Indian Institute of Technology, Guwahati',\n",
       "   'degree': 'Bachelor of Technology - BTech',\n",
       "   'duration': '2020 - 2024'},\n",
       "  {'college': 'School of Creative Learning Patna',\n",
       "   'degree': '12th',\n",
       "   'duration': 'Jun 2017 - Mar 2019'}],\n",
       " 'Skills': ['Statistical Data Analysis',\n",
       "  'Business Analytics',\n",
       "  'Market Research',\n",
       "  'Lead Generation',\n",
       "  'SWOT analysis',\n",
       "  'Data-driven Marketing',\n",
       "  'Data Science',\n",
       "  'Analytical Skills',\n",
       "  'Analytics',\n",
       "  'Data Analysis',\n",
       "  'Statsmodels',\n",
       "  'Seaborn',\n",
       "  'Matplotlib',\n",
       "  'NumPy',\n",
       "  'Pandas (Software)',\n",
       "  'Python (Programming Language)',\n",
       "  'SQL',\n",
       "  'Machine Learning',\n",
       "  'Microsoft Excel',\n",
       "  'Statistics',\n",
       "  'Statistical Data Analysis',\n",
       "  'Business Analytics',\n",
       "  'Market Research',\n",
       "  'Lead Generation',\n",
       "  'SWOT analysis',\n",
       "  'Data-driven Marketing',\n",
       "  'Data Science',\n",
       "  'Analytics',\n",
       "  'Data Analysis',\n",
       "  'Matplotlib',\n",
       "  'NumPy',\n",
       "  'Machine Learning',\n",
       "  'Statistics',\n",
       "  'Literature Reviews',\n",
       "  'Statsmodels',\n",
       "  'Seaborn',\n",
       "  'Pandas (Software)',\n",
       "  'Python (Programming Language)',\n",
       "  'SQL',\n",
       "  'Microsoft Excel',\n",
       "  'Cascading Style Sheets (CSS)',\n",
       "  'C (Programming Language)',\n",
       "  'HTML',\n",
       "  'Analytical Skills']}"
      ]
     },
     "execution_count": 447,
     "metadata": {},
     "output_type": "execute_result"
    }
   ],
   "source": [
    "LinkedIn_Profile"
   ]
  },
  {
   "cell_type": "code",
   "execution_count": 448,
   "metadata": {},
   "outputs": [],
   "source": [
    "import json\n",
    "\n",
    "with open('file/Linkedin_profile.json', 'w') as f:\n",
    "    json.dump(LinkedIn_Profile, f, indent=2)"
   ]
  },
  {
   "cell_type": "code",
   "execution_count": null,
   "metadata": {},
   "outputs": [],
   "source": []
  },
  {
   "cell_type": "code",
   "execution_count": null,
   "metadata": {},
   "outputs": [],
   "source": []
  }
 ],
 "metadata": {
  "kernelspec": {
   "display_name": "Python 3",
   "language": "python",
   "name": "python3"
  },
  "language_info": {
   "codemirror_mode": {
    "name": "ipython",
    "version": 3
   },
   "file_extension": ".py",
   "mimetype": "text/x-python",
   "name": "python",
   "nbconvert_exporter": "python",
   "pygments_lexer": "ipython3",
   "version": "3.12.3"
  }
 },
 "nbformat": 4,
 "nbformat_minor": 2
}
