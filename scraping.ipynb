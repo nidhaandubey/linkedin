{
 "cells": [
  {
   "cell_type": "code",
   "execution_count": 508,
   "metadata": {},
   "outputs": [
    {
     "data": {
      "text/plain": [
       "True"
      ]
     },
     "execution_count": 508,
     "metadata": {},
     "output_type": "execute_result"
    }
   ],
   "source": [
    "import os\n",
    "from bs4 import BeautifulSoup\n",
    "from selenium import webdriver\n",
    "from selenium.webdriver.common.by import By\n",
    "\n",
    "from time import sleep\n",
    "\n",
    "from dotenv import load_dotenv\n",
    "load_dotenv()"
   ]
  },
  {
   "cell_type": "code",
   "execution_count": 509,
   "metadata": {},
   "outputs": [],
   "source": [
    "os.environ['Email'] = 'nidhaandubey1234@gmail.com'\n",
    "os.environ['Password'] ='Nidha@1234'"
   ]
  },
  {
   "cell_type": "code",
   "execution_count": 510,
   "metadata": {},
   "outputs": [
    {
     "data": {
      "text/plain": [
       "'nidhaandubey1234@gmail.com'"
      ]
     },
     "execution_count": 510,
     "metadata": {},
     "output_type": "execute_result"
    }
   ],
   "source": [
    "os.environ['Email']"
   ]
  },
  {
   "cell_type": "code",
   "execution_count": 511,
   "metadata": {},
   "outputs": [
    {
     "data": {
      "text/plain": [
       "'Nidha@1234'"
      ]
     },
     "execution_count": 511,
     "metadata": {},
     "output_type": "execute_result"
    }
   ],
   "source": [
    "os.environ['Password']"
   ]
  },
  {
   "cell_type": "code",
   "execution_count": 512,
   "metadata": {},
   "outputs": [],
   "source": [
    "driver = webdriver.Chrome()"
   ]
  },
  {
   "cell_type": "code",
   "execution_count": 513,
   "metadata": {},
   "outputs": [],
   "source": [
    "driver.get('https://www.linkedin.com/login')"
   ]
  },
  {
   "cell_type": "code",
   "execution_count": 514,
   "metadata": {},
   "outputs": [],
   "source": [
    "email = driver.find_element(By.ID, 'username')\n",
    "email.send_keys(os.environ['EMAIL'])\n",
    "\n",
    "password = driver.find_element(By.ID, 'password')\n",
    "password.send_keys(os.environ['PASSWORD'])"
   ]
  },
  {
   "cell_type": "code",
   "execution_count": 515,
   "metadata": {},
   "outputs": [],
   "source": [
    "password.submit()"
   ]
  },
  {
   "cell_type": "code",
   "execution_count": 584,
   "metadata": {},
   "outputs": [],
   "source": [
    "driver.get('https://www.linkedin.com/in/punreet-beotra/')"
   ]
  },
  {
   "cell_type": "code",
   "execution_count": 585,
   "metadata": {},
   "outputs": [],
   "source": [
    "LinkedIn_Profile = {}"
   ]
  },
  {
   "cell_type": "code",
   "execution_count": 586,
   "metadata": {},
   "outputs": [],
   "source": [
    "page_source = driver.page_source\n",
    "soup = BeautifulSoup(page_source, 'lxml')\n",
    "name = soup.find('h1', {'class': 'TGmiDkkfCcDKxCQooLSypPeziIJjImTHqfyuUinline t-24 v-align-middle break-words'})\n"
   ]
  },
  {
   "cell_type": "markdown",
   "metadata": {},
   "source": [
    "name\n"
   ]
  },
  {
   "cell_type": "code",
   "execution_count": 587,
   "metadata": {},
   "outputs": [],
   "source": [
    "# name\n",
    "name = soup.find('h1')\n",
    "if name is not None:\n",
    "    LinkedIn_Profile['Name'] = name.get_text(strip=True)\n",
    "else:\n",
    "    LinkedIn_Profile['Name'] = 'Name not found'\n"
   ]
  },
  {
   "cell_type": "markdown",
   "metadata": {},
   "source": [
    "Experience\n"
   ]
  },
  {
   "cell_type": "code",
   "execution_count": 588,
   "metadata": {},
   "outputs": [
    {
     "data": {
      "text/plain": [
       "{'Name': 'Punret Beotra'}"
      ]
     },
     "execution_count": 588,
     "metadata": {},
     "output_type": "execute_result"
    }
   ],
   "source": [
    "LinkedIn_Profile"
   ]
  },
  {
   "cell_type": "code",
   "execution_count": 589,
   "metadata": {},
   "outputs": [],
   "source": [
    "page_source = driver.page_source\n",
    "soup = BeautifulSoup(page_source, 'lxml')\n",
    "\n",
    "sections = soup.find_all('section', {'class': 'artdeco-card pv-profile-card break-words mt2'})"
   ]
  },
  {
   "cell_type": "code",
   "execution_count": 590,
   "metadata": {},
   "outputs": [],
   "source": [
    "for sec in sections:\n",
    "    if sec.find('div', {'id': 'experience'}):\n",
    "        experience = sec"
   ]
  },
  {
   "cell_type": "code",
   "execution_count": 591,
   "metadata": {},
   "outputs": [],
   "source": [
    "experience = experience.find_all('div', {'class': 'QWdMUnWylxDRymhsqNEXHtmHKHNYViyijcY hLhaeaiPPxouYPOYhKlhqdogzESFukEEc HHrTGFEncSFOMpDWFtFRuoIPrJKAnRigf'})"
   ]
  },
  {
   "cell_type": "code",
   "execution_count": 592,
   "metadata": {},
   "outputs": [
    {
     "data": {
      "text/plain": [
       "5"
      ]
     },
     "execution_count": 592,
     "metadata": {},
     "output_type": "execute_result"
    }
   ],
   "source": [
    "len(experience)"
   ]
  },
  {
   "cell_type": "code",
   "execution_count": 593,
   "metadata": {},
   "outputs": [],
   "source": [
    "exp = experience[0]\n",
    "current_designation = exp.find('div', {'class': 'display-flex flex-wrap align-items-center full-height'})\n",
    "current_designation = current_designation.find('span', {'class': 'visually-hidden'})\n",
    "current_designation = current_designation.get_text().strip()\n",
    "LinkedIn_Profile['current_designation'] = current_designation"
   ]
  },
  {
   "cell_type": "code",
   "execution_count": 594,
   "metadata": {},
   "outputs": [
    {
     "data": {
      "text/plain": [
       "{'Name': 'Punret Beotra', 'current_designation': 'Human Capital Manager'}"
      ]
     },
     "execution_count": 594,
     "metadata": {},
     "output_type": "execute_result"
    }
   ],
   "source": [
    "LinkedIn_Profile"
   ]
  },
  {
   "cell_type": "markdown",
   "metadata": {},
   "source": [
    "Current company"
   ]
  },
  {
   "cell_type": "code",
   "execution_count": 595,
   "metadata": {},
   "outputs": [],
   "source": [
    "current_company = soup.find('span', {'class': 't-14 t-normal'}, {'aria-hidden': 'true'})\n",
    "if current_company is not None:\n",
    "    designation_text = current_company.get_text(strip=True)\n",
    "    # Extract only the first occurrence of the company name\n",
    "    current_company = designation_text.split('·')[0].strip()\n",
    "    LinkedIn_Profile['Current Company'] = current_company\n",
    "else:\n",
    "    LinkedIn_Profile['Current Company'] = 'current_company not found'"
   ]
  },
  {
   "cell_type": "markdown",
   "metadata": {},
   "source": [
    "Company tenure\n"
   ]
  },
  {
   "cell_type": "code",
   "execution_count": 596,
   "metadata": {},
   "outputs": [],
   "source": [
    "current_tenure = soup.find('span', {'class': 't-14 t-normal t-black--light'})\n",
    "if current_tenure is not None:\n",
    "    current_tenure = current_tenure.get_text(strip=True)\n",
    "    # Extract years and months\n",
    "    years = 0\n",
    "    months = 0\n",
    "    if 'yr' in current_tenure:\n",
    "        years_part = current_tenure.split('yr')[0].split()[-1].strip()\n",
    "        years = int(years_part) if years_part.isdigit() else 0\n",
    "    if 'mo' in current_tenure:\n",
    "        months_part = current_tenure.split('mo')[0].split()[-1].strip()\n",
    "        months = int(months_part) if months_part.isdigit() else 0\n",
    "    LinkedIn_Profile['Current Tenure'] = {'years': years, 'months': months}\n",
    "else:\n",
    "    LinkedIn_Profile['Current Tenure'] = 'current_tenure not found'\n",
    "\n"
   ]
  },
  {
   "cell_type": "code",
   "execution_count": 597,
   "metadata": {},
   "outputs": [
    {
     "data": {
      "text/plain": [
       "{'Name': 'Punret Beotra',\n",
       " 'current_designation': 'Human Capital Manager',\n",
       " 'Current Company': 'BEENEXT',\n",
       " 'Current Tenure': {'years': 2, 'months': 9}}"
      ]
     },
     "execution_count": 597,
     "metadata": {},
     "output_type": "execute_result"
    }
   ],
   "source": [
    "LinkedIn_Profile"
   ]
  },
  {
   "cell_type": "markdown",
   "metadata": {},
   "source": [
    "Overall Experience"
   ]
  },
  {
   "cell_type": "code",
   "execution_count": 598,
   "metadata": {},
   "outputs": [],
   "source": [
    "sections = soup.find_all('section', {'class': 'artdeco-card pv-profile-section'})\n",
    "overall_years = 0\n",
    "overall_months = 0\n",
    "\n",
    "for sec in sections:\n",
    "    # Check if the section contains experience information\n",
    "    if sec.find('div', {'id': 'experience'}):\n",
    "        experience_items = sec.find_all('li', {'class': 'pv-entity__position-group-pager'})\n",
    "        for item in experience_items:\n",
    "            duration = item.find('h4', {'class': 'pv-entity__date-range'})\n",
    "            if duration:\n",
    "                duration_text = duration.get_text(strip=True)\n",
    "                # Extract years and months more robustly\n",
    "                if 'yr' in duration_text:\n",
    "                    years_part = duration_text.split('yr')[0].split()[-1].strip()\n",
    "                    overall_years += int(years_part) if years_part.isdigit() else 0\n",
    "                if 'mo' in duration_text:\n",
    "                    months_part = duration_text.split('mo')[0].split()[-1].strip()\n",
    "                    overall_months += int(months_part) if months_part.isdigit() else 0\n",
    "\n",
    "# Convert months to years and months\n",
    "overall_years += overall_months // 12\n",
    "overall_months = overall_months % 12\n",
    "\n",
    "LinkedIn_Profile['overall_experience'] = {'years': overall_years, 'months': overall_months}"
   ]
  },
  {
   "cell_type": "code",
   "execution_count": 599,
   "metadata": {},
   "outputs": [
    {
     "data": {
      "text/plain": [
       "{'Name': 'Punret Beotra',\n",
       " 'current_designation': 'Human Capital Manager',\n",
       " 'Current Company': 'BEENEXT',\n",
       " 'Current Tenure': {'years': 2, 'months': 9},\n",
       " 'overall_experience': {'years': 0, 'months': 0}}"
      ]
     },
     "execution_count": 599,
     "metadata": {},
     "output_type": "execute_result"
    }
   ],
   "source": [
    "LinkedIn_Profile"
   ]
  },
  {
   "cell_type": "markdown",
   "metadata": {},
   "source": [
    "Location"
   ]
  },
  {
   "cell_type": "code",
   "execution_count": 600,
   "metadata": {},
   "outputs": [],
   "source": [
    "locations = soup.find_all('span', {'class': 't-14 t-normal t-black--light'})\n",
    "if len(locations) > 1:\n",
    "    location_text = locations[1].get_text(strip=True)\n",
    "    # Extract only the useful part of the location\n",
    "    useful_location = location_text.split('·')[0].strip() if '·' in location_text else location_text\n",
    "    LinkedIn_Profile['Location'] = useful_location\n",
    "else:\n",
    "    LinkedIn_Profile['Location'] = 'location not found'"
   ]
  },
  {
   "cell_type": "code",
   "execution_count": 601,
   "metadata": {},
   "outputs": [],
   "source": [
    "connections_count = soup.find('span', {'class': 't-bold'})\n",
    "if connections_count is not None:\n",
    "    connections_count = connections_count.get_text(strip=True)\n",
    "    LinkedIn_Profile['Connections Count'] = connections_count\n",
    "else:\n",
    "    LinkedIn_Profile['Connections Count'] = 'connections_count not found'\n"
   ]
  },
  {
   "cell_type": "code",
   "execution_count": 602,
   "metadata": {},
   "outputs": [],
   "source": [
    "ready_for_work_element = soup.find('h3', {'class': 'truncate text-body-small'})\n",
    "if ready_for_work_element is not None:\n",
    "    is_open_to_work_text = ready_for_work_element.get_text(strip=True)\n",
    "    is_open_to_work = 'open to work' in is_open_to_work_text.lower()\n",
    "else:\n",
    "    is_open_to_work = False\n",
    "\n",
    "LinkedIn_Profile['is_open_to_work'] = is_open_to_work"
   ]
  },
  {
   "cell_type": "code",
   "execution_count": 603,
   "metadata": {},
   "outputs": [
    {
     "data": {
      "text/plain": [
       "{'Name': 'Punret Beotra',\n",
       " 'current_designation': 'Human Capital Manager',\n",
       " 'Current Company': 'BEENEXT',\n",
       " 'Current Tenure': {'years': 2, 'months': 9},\n",
       " 'overall_experience': {'years': 0, 'months': 0},\n",
       " 'Location': 'IndiaIndia',\n",
       " 'Connections Count': '500+',\n",
       " 'is_open_to_work': False}"
      ]
     },
     "execution_count": 603,
     "metadata": {},
     "output_type": "execute_result"
    }
   ],
   "source": [
    "LinkedIn_Profile"
   ]
  },
  {
   "cell_type": "markdown",
   "metadata": {},
   "source": [
    "Education \n"
   ]
  },
  {
   "cell_type": "code",
   "execution_count": 635,
   "metadata": {},
   "outputs": [],
   "source": [
    "for sec in sections:\n",
    "    if sec.find('div', {'id': 'education'}):\n",
    "        educations = sec"
   ]
  },
  {
   "cell_type": "code",
   "execution_count": 636,
   "metadata": {},
   "outputs": [
    {
     "data": {
      "text/plain": [
       "'EducationEducation\\n\\n \\n \\n \\n\\n\\n \\n\\n \\n\\n\\n\\n\\n\\n \\n\\n\\n\\n\\n\\n\\n\\n\\n\\n\\n\\nICFAI University JaipurICFAI University Jaipur\\n\\n\\n\\n\\n \\n\\nMaster of Business Administration - MBA, Human Resources Management/Personnel Administration, GeneralMaster of Business Administration - MBA, Human Resources Management/Personnel Administration, General\\n\\n\\nMay 2015 - Jan 2017May 2015 - Jan 2017\\n\\n \\n\\n \\n\\n \\n\\n\\n \\n\\n\\n\\n\\n\\n\\nDPS Vasant Kunj\\n\\n\\n\\n\\n\\n\\n\\n\\n\\n\\n\\n\\nDPS Vasant KunjDPS Vasant Kunj\\n\\n\\n\\n\\n \\n\\n10+2, Business/Commerce, General10+2, Business/Commerce, General\\n\\n\\n1998 - 20111998 - 2011'"
      ]
     },
     "execution_count": 636,
     "metadata": {},
     "output_type": "execute_result"
    }
   ],
   "source": [
    "educations.get_text().strip()"
   ]
  },
  {
   "cell_type": "code",
   "execution_count": 637,
   "metadata": {},
   "outputs": [],
   "source": [
    "items = educations.find_all('div', {'class': 'QWdMUnWylxDRymhsqNEXHtmHKHNYViyijcY hLhaeaiPPxouYPOYhKlhqdogzESFukEEc HHrTGFEncSFOMpDWFtFRuoIPrJKAnRigf'})"
   ]
  },
  {
   "cell_type": "code",
   "execution_count": 638,
   "metadata": {},
   "outputs": [
    {
     "data": {
      "text/plain": [
       "15"
      ]
     },
     "execution_count": 638,
     "metadata": {},
     "output_type": "execute_result"
    }
   ],
   "source": [
    "len(educations)"
   ]
  },
  {
   "cell_type": "code",
   "execution_count": 639,
   "metadata": {},
   "outputs": [],
   "source": [
    "def get_edu(item):\n",
    "    item_dict = {}\n",
    "    spans = item.find_all('span', {'class': 'visually-hidden'})\n",
    "\n",
    "    item_dict['college'] = spans[0].get_text().strip()\n",
    "    item_dict['degree'] = spans[1].get_text().strip()\n",
    "    item_dict['duration'] = spans[2].get_text().strip()\n",
    "    item_dict['project'] = spans[3].get_text().strip()\n",
    "\n",
    "    return item_dict\n",
    "\n",
    "item_list = []\n",
    "for item in items:\n",
    "    item_list.append(get_edu(item))\n",
    "\n",
    "LinkedIn_Profile['education'] = item_list"
   ]
  },
  {
   "cell_type": "code",
   "execution_count": 640,
   "metadata": {},
   "outputs": [
    {
     "data": {
      "text/plain": [
       "{'Name': 'Punret Beotra',\n",
       " 'current_designation': 'Human Capital Manager',\n",
       " 'Current Company': 'BEENEXT',\n",
       " 'Current Tenure': {'years': 2, 'months': 9},\n",
       " 'overall_experience': {'years': 0, 'months': 0},\n",
       " 'Location': 'IndiaIndia',\n",
       " 'Connections Count': '500+',\n",
       " 'is_open_to_work': False,\n",
       " 'education': [],\n",
       " 'Skills': ['Team Building',\n",
       "  'Technical Recruiting',\n",
       "  'Organizational Culture',\n",
       "  'Management',\n",
       "  'Social Media',\n",
       "  'Microsoft Excel',\n",
       "  'Market Research',\n",
       "  'Team Management',\n",
       "  'Business Strategy',\n",
       "  'Customer Service',\n",
       "  'Marketing Strategy',\n",
       "  'Microsoft Word',\n",
       "  'Strategic Planning',\n",
       "  'Talent Management',\n",
       "  'Talent Scouting',\n",
       "  'Global Talent Acquisition',\n",
       "  'Human Resources',\n",
       "  'Public Speaking',\n",
       "  'Business Development',\n",
       "  'Training',\n",
       "  'Team Building',\n",
       "  'Technical Recruiting',\n",
       "  'Organizational Culture',\n",
       "  'Social Media',\n",
       "  'Market Research',\n",
       "  'Business Strategy',\n",
       "  'Customer Service',\n",
       "  'Marketing Strategy',\n",
       "  'Talent Management',\n",
       "  'Talent Scouting',\n",
       "  'Global Talent Acquisition',\n",
       "  'Human Resources',\n",
       "  'Business Development',\n",
       "  'Training',\n",
       "  'Human Resources (HR)',\n",
       "  'Microsoft Excel',\n",
       "  'Microsoft Word',\n",
       "  'Management',\n",
       "  'Team Management',\n",
       "  'Strategic Planning',\n",
       "  'Public Speaking']}"
      ]
     },
     "execution_count": 640,
     "metadata": {},
     "output_type": "execute_result"
    }
   ],
   "source": [
    "LinkedIn_Profile"
   ]
  },
  {
   "cell_type": "markdown",
   "metadata": {},
   "source": [
    "Skills\n"
   ]
  },
  {
   "cell_type": "code",
   "execution_count": 630,
   "metadata": {},
   "outputs": [],
   "source": [
    "driver.find_element(By.ID, \"navigation-index-Show-all-21-skills\").click()\n",
    "# driver.find_element(By.CLASS_NAME, \"optional-action-target-wrapper artdeco-button artdeco-button--tertiary artdeco-button--standard artdeco-button--2 artdeco-button--muted inline-flex justify-center full-width align-items-center artdeco-button--fluid\").click()"
   ]
  },
  {
   "cell_type": "code",
   "execution_count": 631,
   "metadata": {},
   "outputs": [],
   "source": [
    "page_source = driver.page_source\n",
    "soup = BeautifulSoup(page_source, 'lxml')\n",
    "\n",
    "soup = soup.find('section', {'class': 'artdeco-card pb3'})"
   ]
  },
  {
   "cell_type": "code",
   "execution_count": 632,
   "metadata": {},
   "outputs": [
    {
     "data": {
      "text/plain": [
       "41"
      ]
     },
     "execution_count": 632,
     "metadata": {},
     "output_type": "execute_result"
    }
   ],
   "source": [
    "items = soup.find_all('div', {'class': 'QWdMUnWylxDRymhsqNEXHtmHKHNYViyijcY hLhaeaiPPxouYPOYhKlhqdogzESFukEEc HHrTGFEncSFOMpDWFtFRuoIPrJKAnRigf'})\n",
    "\n",
    "len(items)"
   ]
  },
  {
   "cell_type": "code",
   "execution_count": 633,
   "metadata": {},
   "outputs": [],
   "source": [
    "item = items[0]\n",
    "\n",
    "def get_Skill(item):\n",
    "    spans = item.find_all('span', {'class': 'visually-hidden'})\n",
    "\n",
    "    item_dict = {}\n",
    "    item_dict = spans[0].get_text().strip()\n",
    "\n",
    "    return item_dict\n",
    "\n",
    "item_list = []\n",
    "for item in items:\n",
    "    item_list.append(get_Skill(item))\n",
    "\n",
    "LinkedIn_Profile['Skills'] = item_list"
   ]
  },
  {
   "cell_type": "code",
   "execution_count": 634,
   "metadata": {},
   "outputs": [
    {
     "data": {
      "text/plain": [
       "{'Name': 'Punret Beotra',\n",
       " 'current_designation': 'Human Capital Manager',\n",
       " 'Current Company': 'BEENEXT',\n",
       " 'Current Tenure': {'years': 2, 'months': 9},\n",
       " 'overall_experience': {'years': 0, 'months': 0},\n",
       " 'Location': 'IndiaIndia',\n",
       " 'Connections Count': '500+',\n",
       " 'is_open_to_work': False,\n",
       " 'education': [],\n",
       " 'Skills': ['Team Building',\n",
       "  'Technical Recruiting',\n",
       "  'Organizational Culture',\n",
       "  'Management',\n",
       "  'Social Media',\n",
       "  'Microsoft Excel',\n",
       "  'Market Research',\n",
       "  'Team Management',\n",
       "  'Business Strategy',\n",
       "  'Customer Service',\n",
       "  'Marketing Strategy',\n",
       "  'Microsoft Word',\n",
       "  'Strategic Planning',\n",
       "  'Talent Management',\n",
       "  'Talent Scouting',\n",
       "  'Global Talent Acquisition',\n",
       "  'Human Resources',\n",
       "  'Public Speaking',\n",
       "  'Business Development',\n",
       "  'Training',\n",
       "  'Team Building',\n",
       "  'Technical Recruiting',\n",
       "  'Organizational Culture',\n",
       "  'Social Media',\n",
       "  'Market Research',\n",
       "  'Business Strategy',\n",
       "  'Customer Service',\n",
       "  'Marketing Strategy',\n",
       "  'Talent Management',\n",
       "  'Talent Scouting',\n",
       "  'Global Talent Acquisition',\n",
       "  'Human Resources',\n",
       "  'Business Development',\n",
       "  'Training',\n",
       "  'Human Resources (HR)',\n",
       "  'Microsoft Excel',\n",
       "  'Microsoft Word',\n",
       "  'Management',\n",
       "  'Team Management',\n",
       "  'Strategic Planning',\n",
       "  'Public Speaking']}"
      ]
     },
     "execution_count": 634,
     "metadata": {},
     "output_type": "execute_result"
    }
   ],
   "source": [
    "LinkedIn_Profile"
   ]
  },
  {
   "cell_type": "code",
   "execution_count": null,
   "metadata": {},
   "outputs": [],
   "source": [
    "import json\n",
    "\n",
    "with open('file/Linkedin_profile.json', 'w') as f:\n",
    "    json.dump(LinkedIn_Profile, f, indent=2)"
   ]
  },
  {
   "cell_type": "code",
   "execution_count": null,
   "metadata": {},
   "outputs": [],
   "source": []
  },
  {
   "cell_type": "code",
   "execution_count": null,
   "metadata": {},
   "outputs": [],
   "source": []
  }
 ],
 "metadata": {
  "kernelspec": {
   "display_name": "Python 3",
   "language": "python",
   "name": "python3"
  },
  "language_info": {
   "codemirror_mode": {
    "name": "ipython",
    "version": 3
   },
   "file_extension": ".py",
   "mimetype": "text/x-python",
   "name": "python",
   "nbconvert_exporter": "python",
   "pygments_lexer": "ipython3",
   "version": "3.12.3"
  }
 },
 "nbformat": 4,
 "nbformat_minor": 2
}
